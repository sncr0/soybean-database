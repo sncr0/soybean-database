{
 "cells": [
  {
   "cell_type": "code",
   "execution_count": 10,
   "metadata": {},
   "outputs": [],
   "source": [
    "import csv\n",
    "import os\n",
    "import pandas as pd"
   ]
  },
  {
   "cell_type": "code",
   "execution_count": 21,
   "metadata": {},
   "outputs": [],
   "source": [
    "import_dict = {}\n",
    "for file in os.listdir(\"./lake/import\"):\n",
    "    if file.endswith(\".xlsx\"):\n",
    "        country_name = file.split(\"to \")[1].split(\".xlsx\")[0].replace(\" \", \"_\")\n",
    "        import_dict[country_name] = pd.read_excel(f'lake/import/{file}', skiprows=2, skipfooter=4) "
   ]
  },
  {
   "cell_type": "code",
   "execution_count": 20,
   "metadata": {},
   "outputs": [],
   "source": [
    "export_dict = {}\n",
    "for file in os.listdir(\"./lake/export\"):\n",
    "    if file.endswith(\".xlsx\"):\n",
    "        country_name = file.split(\"from \")[1].split(\".xlsx\")[0].replace(\" \", \"_\")\n",
    "        export_dict[country_name] = pd.read_excel(f'lake/export/{file}', skiprows=2, skipfooter=4) "
   ]
  },
  {
   "cell_type": "code",
   "execution_count": 25,
   "metadata": {},
   "outputs": [
    {
     "name": "stdout",
     "output_type": "stream",
     "text": [
      "5156\n"
     ]
    }
   ],
   "source": [
    "length = 0\n",
    "for key in import_dict:\n",
    "    length += len(import_dict[key])\n",
    "for key in export_dict:\n",
    "    length += len(export_dict[key])\n",
    "print(length)"
   ]
  }
 ],
 "metadata": {
  "kernelspec": {
   "display_name": "Python 3",
   "language": "python",
   "name": "python3"
  },
  "language_info": {
   "codemirror_mode": {
    "name": "ipython",
    "version": 3
   },
   "file_extension": ".py",
   "mimetype": "text/x-python",
   "name": "python",
   "nbconvert_exporter": "python",
   "pygments_lexer": "ipython3",
   "version": "3.10.12"
  }
 },
 "nbformat": 4,
 "nbformat_minor": 2
}
