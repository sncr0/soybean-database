{
 "cells": [
  {
   "cell_type": "code",
   "execution_count": 1,
   "metadata": {},
   "outputs": [],
   "source": [
    "import mysql.connector\n",
    "import csv\n",
    "from infra import *\n",
    "import time\n",
    "from faker import Faker\n",
    "import random"
   ]
  },
  {
   "cell_type": "code",
   "execution_count": 2,
   "metadata": {},
   "outputs": [],
   "source": [
    "fake = Faker()"
   ]
  },
  {
   "cell_type": "code",
   "execution_count": 3,
   "metadata": {},
   "outputs": [],
   "source": [
    "class SITE:\n",
    "    def __init__(self):\n",
    "        self.site_id = random.randint(100000000, 999999999)\n",
    "    def insert(self, cursor):\n",
    "        cursor.execute(\"INSERT INTO SITES (site_id) VALUES (%s)\", (self.site_id,))\n",
    "        \n",
    "class EMPLOYEE:\n",
    "    def __init__(self, SITE: SITE):\n",
    "        self.employee_id = random.randint(100000000, 999999999)\n",
    "        self.site_id = SITE.site_id\n",
    "    def insert(self, cursor):\n",
    "        cursor.execute(\"INSERT INTO EMPLOYEE (employee_id, site_id) VALUES (%s, %s)\", (self.employee_id, self.site_id))\n",
    "\n",
    "class CONTRACT:\n",
    "    def __init__(self, EMPLOYEE: EMPLOYEE):\n",
    "        self.contract_id = random.randint(100000000, 999999999)\n",
    "        self.site_id = EMPLOYEE.site_id\n",
    "        self.employee_id = EMPLOYEE.employee_id\n",
    "    def insert(self, cursor):\n",
    "        cursor.execute(\"INSERT INTO CONTRACT (contract_id, site_id, employee_id) VALUES (%s, %s, %s)\", (self.contract_id, self.site_id, self.employee_id))\n",
    "\n",
    "class TEMPORARY_CONTRACT:\n",
    "    def __init__(self, CONTRACT: CONTRACT):\n",
    "        self.temp_contract_id = random.randint(100000000, 999999999)\n",
    "        self.contract_id = CONTRACT.contract_id\n",
    "        self.site_id = CONTRACT.site_id\n",
    "        self.employee_id = CONTRACT.employee_id\n",
    "        self.start_date = fake.date_between(start_date='-5y', end_date='today').strftime('%Y-%m-%d %H:%M:%S')\n",
    "        self.end_date = fake.date_between(start_date='today', end_date='today').strftime('%Y-%m-%d %H:%M:%S')\n",
    "    def insert(self, cursor):\n",
    "        cursor.execute(\"INSERT INTO TEMPORARY_CONTRACT (temp_contract_id, contract_id, site_id, employee_id, start_date, end_date) VALUES (%s, %s, %s, %s, %s, %s)\", (self.temp_contract_id, self.contract_id, self.site_id, self.employee_id, self.start_date, self.end_date))\n",
    "        \n",
    "class PERMANENT_CONTRACT:\n",
    "    def __init__(self, CONTRACT: CONTRACT):\n",
    "        self.perm_contract_id = random.randint(100000000, 999999999)\n",
    "        self.contract_id = CONTRACT.contract_id\n",
    "        self.site_id = CONTRACT.site_id\n",
    "        self.employee_id = CONTRACT.employee_id\n",
    "        self.start_date = fake.date_between(start_date='-5y', end_date='today').strftime('%Y-%m-%d %H:%M:%S')\n",
    "    def insert(self, cursor):\n",
    "        cursor.execute(\"INSERT INTO PERMANENT_CONTRACT (perm_contract_id, contract_id, site_id, employee_id, start_date) VALUES (%s, %s, %s, %s, %s)\", (self.perm_contract_id, self.contract_id, self.site_id, self.employee_id, self.start_date))\n",
    "        \n",
    "class SITE_MANAGER:\n",
    "    def __init__(self, EMPLOYEE: EMPLOYEE, SITE: SITE):\n",
    "        self.site_manager_id = random.randint(100000000, 999999999)\n",
    "        self.employee_id = EMPLOYEE.employee_id\n",
    "        self.site_id = SITE.site_id\n",
    "    def insert(self, cursor):\n",
    "        cursor.execute(\"INSERT INTO SITE_MANAGER (site_manager_id, employee_id, site_id) VALUES (%s, %s, %s)\", (self.site_manager_id, self.employee_id, self.site_id))\n",
    "        \n",
    "class SUPPLIER:\n",
    "    def __init__(self):\n",
    "        self.supplier_id = random.randint(100000000, 999999999)\n",
    "    def insert(self, cursor):\n",
    "        cursor.execute(\"INSERT INTO SUPPLIER (supplier_id) VALUES (%s)\", (self.supplier_id))\n",
    "        \n",
    "class WORKS_AT_SITE:\n",
    "    def __init__(self, EMPLOYEE: EMPLOYEE, SITE: SITE):\n",
    "        self.employee_id = EMPLOYEE.employee_id\n",
    "        self.site_id = SITE.site_id\n",
    "    def insert(self, cursor):\n",
    "        cursor.execute(\"INSERT INTO WORKS_AT_SITE (employee_id, site_id) VALUES (%s, %s)\", (self.employee_id, self.site_id))\n",
    "\n",
    "class INVENTORY:\n",
    "    def __init__(self, SITE: SITE, SUPPLIER: SUPPLIER):\n",
    "        self.inventory_id = random.randint(100000000, 999999999)\n",
    "        self.site_id = SITE.site_id\n",
    "        self.supplier_id = SUPPLIER.supplier_id\n",
    "    def insert(self, cursor):\n",
    "        cursor.execute(\"INSERT INTO INVENTORY (inventory_id, site_id, supplier_id) VALUES (%s, %s, %s)\", (self.inventory_id, self.site_id, self.supplier_id))\n",
    "        \n",
    "class BATCH:\n",
    "    def __init__(self, INVENTORY: INVENTORY):\n",
    "        self.batch_id = random.randint(100000000, 999999999)\n",
    "        self.inventory_id = INVENTORY.inventory_id\n",
    "        self.supplier_id = INVENTORY.supplier_id\n",
    "        self.site_id = INVENTORY.site_id\n",
    "    def insert(self, cursor):\n",
    "        cursor.execute(\"INSERT INTO BATCH (batch_id, inventory_id, supplier_id, site_id) VALUES (%s, %s, %s, %s)\", (self.batch_id, self.inventory_id, self.supplier_id, self.site_id))\n",
    "\n",
    "class IPC:\n",
    "    def __init__(self, BATCH: BATCH):\n",
    "        self.ipc_id = random.randint(100000000, 999999999)\n",
    "        self.batch_id = BATCH.batch_id\n",
    "        self.inventory_id = BATCH.inventory_id\n",
    "        self.supplier_id = BATCH.supplier_id\n",
    "        self.site_id = BATCH.site_id\n",
    "    def insert(self, cursor):\n",
    "        cursor.execute(\"INSERT INTO IPC (ipc_id, batch_id, inventory_id, supplier_id, site_id) VALUES (%s, %s, %s, %s, %s)\", (self.ipc_id, self.batch_id, self.inventory_id, self.supplier_id, self.site_id))\n",
    "\n",
    "class STOCK:\n",
    "    def __init__(self, BATCH: BATCH):\n",
    "        self.stock_id = random.randint(100000000, 999999999)\n",
    "        self.batch_id = BATCH.batch_id\n",
    "        self.inventory_id = BATCH.inventory_id\n",
    "        self.supplier_id = BATCH.supplier_id\n",
    "        self.site_id = BATCH.site_id\n",
    "    def insert(self, cursor):\n",
    "        cursor.execute(\"INSERT INTO STOCK (stock_id, batch_id, inventory_id, supplier_id, site_id) VALUES (%s, %s, %s, %s, %s)\", (self.stock_id, self.batch_id, self.inventory_id, self.supplier_id, self.site_id))\n",
    "        \n",
    "class CLIENT:\n",
    "    def __init__(self):\n",
    "        self.client_id = random.randint(100000000, 999999999)\n",
    "    def insert(self, cursor):\n",
    "        cursor.execute(\"INSERT INTO CLIENT (client_id) VALUES (%s)\", (self.client_id))\n",
    "        \n",
    "class SALES_DEPARTMENT:\n",
    "    def __init__(self):\n",
    "        self.sales_department_id = random.randint(100000000, 999999999)\n",
    "        self.department_name = \"AAAA\"\n",
    "    def insert(self, cursor):\n",
    "        cursor.execute(\"INSERT INTO SALES_DEPARTMENT (sales_department_id, department_name) VALUES (%s, %s)\", (self.sales_department_id, self.department_name))\n",
    "    \n",
    "class SALES_ASSOCIATE:\n",
    "    def __init__(self, SALES_DEPARTMENT: SALES_DEPARTMENT):\n",
    "        self.sales_associate_id = random.randint(100000000, 999999999)\n",
    "        self.sales_department_id = SALES_DEPARTMENT.sales_department_id\n",
    "    def insert(self, cursor):\n",
    "        cursor.execute(\"INSERT INTO SALES_ASSOCIATE (sales_associate_id, sales_department_id) VALUES (%s, %s)\", (self.sales_associate_id, self.sales_department_id))\n",
    "        \n",
    "class SALES_MANAGER:\n",
    "    def __init__(self, SALES_DEPARTMENT: SALES_DEPARTMENT):\n",
    "        self.sales_manager_id = random.randint(100000000, 999999999)\n",
    "        self.sales_department_id = SALES_DEPARTMENT.sales_department_id\n",
    "    def insert(self, cursor):\n",
    "        cursor.execute(\"INSERT INTO SALES_MANAGER (sales_manager_id, sales_department_id) VALUES (%s, %s)\", (self.sales_manager_id, self.sales_department_id))\n",
    "        \n",
    "class SALE:\n",
    "    def __init__(self, SALES_ASSOCIATE: SALES_ASSOCIATE, \n",
    "                 CLIENT: CLIENT,\n",
    "                 STOCK: STOCK):\n",
    "        self.sale_id = random.randint(100000000, 999999999)\n",
    "        self.sales_associate_id = SALES_ASSOCIATE.sales_associate_id\n",
    "        self.client_id = CLIENT.client_id\n",
    "        self.stock_id = STOCK.stock_id\n",
    "        self.batch_id = STOCK.batch_id\n",
    "        self.inventory_id = STOCK.inventory_id\n",
    "        self.supplier_id = STOCK.supplier_id\n",
    "        self.site_id = STOCK.site_id\n",
    "    def insert(self, cursor):\n",
    "        cursor.execute(\"INSERT INTO SALE (sale_id, sales_associate_id, client_id, stock_id, batch_id, inventory_id, supplier_id, site_id) VALUES (%s, %s, %s, %s, %s, %s, %s, %s)\", (self.sale_id, self.sales_associate_id, self.client_id, self.stock_id, self.batch_id, self.inventory_id, self.supplier_id, self.site_id))\n",
    "\n"
   ]
  },
  {
   "cell_type": "code",
   "execution_count": 7,
   "metadata": {},
   "outputs": [
    {
     "name": "stdout",
     "output_type": "stream",
     "text": [
      "Connected to the database\n",
      "Disconnected from the database\n"
     ]
    }
   ],
   "source": [
    "connection, cursor = connect_to_database()\n",
    "cursor.execute(\"\"\"\n",
    "               USE SOYBEAN;\n",
    "               \"\"\")\n",
    "\n",
    "SITE_NUMBERS = 1\n",
    "EMPLOYEES_PER_SITE = 10\n",
    "RATIO_TEMPORARY_PERMANENT = 0.5\n",
    "for i in range(0,SITE_NUMBERS):\n",
    "    site = SITE()\n",
    "    site.insert(cursor)\n",
    "    for j in range(0,EMPLOYEES_PER_SITE):\n",
    "        employee = EMPLOYEE(site)\n",
    "        employee.insert(cursor)\n",
    "        contract = CONTRACT(employee)\n",
    "        contract.insert(cursor)\n",
    "        if random.random() < RATIO_TEMPORARY_PERMANENT:\n",
    "            temporary_contract = TEMPORARY_CONTRACT(contract)\n",
    "            temporary_contract.insert(cursor)\n",
    "        else:\n",
    "            permanent_contract = PERMANENT_CONTRACT(contract)\n",
    "            permanent_contract.insert(cursor)\n",
    "        works_at_site = WORKS_AT_SITE(employee, site)\n",
    "        works_at_site.insert(cursor)\n",
    "    \n",
    "    employee = EMPLOYEE(site)\n",
    "    employee.insert(cursor)\n",
    "    contract = CONTRACT(employee)\n",
    "    contract.insert(cursor)\n",
    "    permanent_contract = PERMANENT_CONTRACT(contract)\n",
    "    permanent_contract.insert(cursor)\n",
    "    site_manager = SITE_MANAGER(employee, site)\n",
    "    site_manager.insert(cursor)\n",
    "    \n",
    "\n",
    "    \n",
    "connection.commit()\n",
    "\n",
    "disconnect_from_database(connection, cursor)"
   ]
  },
  {
   "cell_type": "code",
   "execution_count": 14,
   "metadata": {},
   "outputs": [
    {
     "data": {
      "text/plain": [
       "'2023-11-16 00:00:00'"
      ]
     },
     "execution_count": 14,
     "metadata": {},
     "output_type": "execute_result"
    }
   ],
   "source": [
    "fake.date_between(start_date=\"today\", end_date=\"today\").strftime('%Y-%m-%d %H:%M:%S')"
   ]
  },
  {
   "cell_type": "code",
   "execution_count": 11,
   "metadata": {},
   "outputs": [
    {
     "data": {
      "text/plain": [
       "'2021-04-04 00:00:00'"
      ]
     },
     "execution_count": 11,
     "metadata": {},
     "output_type": "execute_result"
    }
   ],
   "source": [
    "fake.date_between(start_date='-5y', end_date='today').strftime('%Y-%m-%d %H:%M:%S')"
   ]
  }
 ],
 "metadata": {
  "kernelspec": {
   "display_name": "Python 3",
   "language": "python",
   "name": "python3"
  },
  "language_info": {
   "codemirror_mode": {
    "name": "ipython",
    "version": 3
   },
   "file_extension": ".py",
   "mimetype": "text/x-python",
   "name": "python",
   "nbconvert_exporter": "python",
   "pygments_lexer": "ipython3",
   "version": "3.10.12"
  }
 },
 "nbformat": 4,
 "nbformat_minor": 2
}
