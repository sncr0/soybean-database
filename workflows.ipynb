{
 "cells": [
  {
   "cell_type": "code",
   "execution_count": 1,
   "metadata": {},
   "outputs": [
    {
     "name": "stderr",
     "output_type": "stream",
     "text": [
      "2023-12-22 12:33:26.812852: E external/local_xla/xla/stream_executor/cuda/cuda_dnn.cc:9261] Unable to register cuDNN factory: Attempting to register factory for plugin cuDNN when one has already been registered\n",
      "2023-12-22 12:33:26.812899: E external/local_xla/xla/stream_executor/cuda/cuda_fft.cc:607] Unable to register cuFFT factory: Attempting to register factory for plugin cuFFT when one has already been registered\n",
      "2023-12-22 12:33:26.813652: E external/local_xla/xla/stream_executor/cuda/cuda_blas.cc:1515] Unable to register cuBLAS factory: Attempting to register factory for plugin cuBLAS when one has already been registered\n",
      "2023-12-22 12:33:26.818944: I tensorflow/core/platform/cpu_feature_guard.cc:182] This TensorFlow binary is optimized to use available CPU instructions in performance-critical operations.\n",
      "To enable the following instructions: AVX2 FMA, in other operations, rebuild TensorFlow with the appropriate compiler flags.\n",
      "2023-12-22 12:33:27.639676: W tensorflow/compiler/tf2tensorrt/utils/py_utils.cc:38] TF-TRT Warning: Could not find TensorRT\n"
     ]
    }
   ],
   "source": [
    "from API import *\n",
    "api = Database_API()\n",
    "recreate = 1\n",
    "if recreate:\n",
    "    api.query(\"DROP DATABASE IF EXISTS SOYBEAN\")\n",
    "    api.connect()\n",
    "    api.create_database()\n",
    "    api.populate_database()\n",
    "    api.connect()"
   ]
  },
  {
   "cell_type": "code",
   "execution_count": 2,
   "metadata": {},
   "outputs": [],
   "source": [
    "api.plant_field([2], \"Jersey City\")\n"
   ]
  },
  {
   "cell_type": "code",
   "execution_count": 3,
   "metadata": {},
   "outputs": [],
   "source": [
    "field_list = api.get(\"SELECT * FROM FIELD WHERE field_number = 2 AND PLANTATION_NAME = \\\"Jersey City\\\"\", FIELD)"
   ]
  },
  {
   "cell_type": "code",
   "execution_count": 4,
   "metadata": {},
   "outputs": [],
   "source": [
    "\n",
    "api.load_model(\"./lake/cv/model.json\", \"./lake/cv/model.h5\")\n",
    "images = api.generate_field_images(0.95, 10)\n",
    "predicted_fraction = api.predict_fraction(images, field_list[0],  0.95)\n",
    "predicted_total_cost = api.predict_total_cost(predicted_fraction)\n",
    "url = api.push_to_azure(field_list[0], images)"
   ]
  },
  {
   "cell_type": "code",
   "execution_count": 5,
   "metadata": {},
   "outputs": [],
   "source": [
    "url = api.push_to_azure(field_list[0], images)"
   ]
  },
  {
   "cell_type": "code",
   "execution_count": 6,
   "metadata": {},
   "outputs": [
    {
     "name": "stdout",
     "output_type": "stream",
     "text": [
      "Harvest transaction succeeded\n",
      "Start batch transaction succeeded\n",
      "\n",
      "                        UPDATE BATCH\n",
      "                        SET finished = TRUE\n",
      "                        WHERE production_unit = 0 AND production_date = \"2023-12-22\" AND harvest_date = \"2023-12-22\" AND plantation_name = \"Jersey City\" AND field_number = 2 AND site_name = \"New York\";\n",
      "                    \n",
      "\n",
      "                    INSERT INTO STOCK (package_date, production_unit, production_date, harvest_date, plantation_name, field_number, site_name, production_cost, price) VALUES ('2023-12-22', 0, '2023-12-22', '2023-12-22', 'Jersey City', 2, 'New York', 6.25, 6.875000000000001)\n",
      "                    \n",
      "Finish batch transaction succeeded\n"
     ]
    }
   ],
   "source": [
    "# First harvest: no correction\n",
    "api.harvest_soybeans(\"Jersey City\", \"New York\", 2, url = url, prediction = predicted_total_cost)\n",
    "\n",
    "inventory_list = api.get(f\"SELECT * FROM INVENTORY WHERE site_name = \\\"New York\\\" AND plantation_name = \\\"Jersey City\\\" AND harvest_date = \\\"2023-12-22\\\"\", INVENTORY)\n",
    "api.start_batch(inventory_list[0], 0)\n",
    "\n",
    "batch_list = api.get(f\"SELECT * FROM BATCH WHERE site_name = \\\"New York\\\" AND plantation_name = \\\"Jersey City\\\" AND harvest_date = \\\"2023-12-22\\\" AND production_unit = 0 AND production_date = \\\"2023-12-22\\\"\", BATCH)\n",
    "actual_production_cost = 6.25 # corresponds to 100% yield\n",
    "api.finish_batch(batch_list[0], production_cost = actual_production_cost, price = actual_production_cost*api.markup )"
   ]
  },
  {
   "cell_type": "code",
   "execution_count": 7,
   "metadata": {},
   "outputs": [],
   "source": [
    "api.plant_field([3], \"Jersey City\")\n"
   ]
  },
  {
   "cell_type": "code",
   "execution_count": 8,
   "metadata": {},
   "outputs": [],
   "source": [
    "# Second harvest: correction on the first harvest\n",
    "images = api.generate_field_images(0.3, 10)\n",
    "\n",
    "field_list = api.get(\"SELECT * FROM FIELD WHERE field_number = 3 AND PLANTATION_NAME = \\\"Jersey City\\\"\", FIELD)\n",
    "\n",
    "predicted_fraction = api.predict_fraction(images, field_list[0], 0.3)\n",
    "predicted_total_cost = api.predict_total_cost(predicted_fraction)\n",
    "\n",
    "field_list = api.get(\"SELECT * FROM FIELD WHERE field_number = 3 AND PLANTATION_NAME = \\\"Jersey City\\\"\", FIELD)\n",
    "url = api.push_to_azure(field_list[0], images)\n",
    "\n"
   ]
  },
  {
   "cell_type": "code",
   "execution_count": 9,
   "metadata": {},
   "outputs": [
    {
     "name": "stdout",
     "output_type": "stream",
     "text": [
      "predicted cost: 20.833333333333332\n",
      "price: 6.875\n",
      "count: 1\n",
      "predicted cost: 20.833333333333332\n",
      "corrected price: 14.895833333333334\n"
     ]
    },
    {
     "data": {
      "text/plain": [
       "14.895833333333334"
      ]
     },
     "execution_count": 9,
     "metadata": {},
     "output_type": "execute_result"
    }
   ],
   "source": [
    "api.correct_price(\"Jersey City\")"
   ]
  },
  {
   "cell_type": "code",
   "execution_count": null,
   "metadata": {},
   "outputs": [],
   "source": []
  },
  {
   "cell_type": "code",
   "execution_count": null,
   "metadata": {},
   "outputs": [],
   "source": []
  }
 ],
 "metadata": {
  "kernelspec": {
   "display_name": "Python 3",
   "language": "python",
   "name": "python3"
  },
  "language_info": {
   "codemirror_mode": {
    "name": "ipython",
    "version": 3
   },
   "file_extension": ".py",
   "mimetype": "text/x-python",
   "name": "python",
   "nbconvert_exporter": "python",
   "pygments_lexer": "ipython3",
   "version": "3.10.12"
  }
 },
 "nbformat": 4,
 "nbformat_minor": 2
}
