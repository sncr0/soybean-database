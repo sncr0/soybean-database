{
 "cells": [
  {
   "cell_type": "code",
   "execution_count": 1,
   "metadata": {},
   "outputs": [],
   "source": [
    "import numpy as np\n",
    "import os\n",
    "import cv2\n",
    "import glob\n",
    "import csv"
   ]
  },
  {
   "cell_type": "code",
   "execution_count": 2,
   "metadata": {},
   "outputs": [
    {
     "name": "stdout",
     "output_type": "stream",
     "text": [
      "/home/samuel/NYU/DBS/proj/lake/cv/dataset/broadleaf/\n",
      "/home/samuel/NYU/DBS/proj/lake/cv/dataset/grass/\n",
      "/home/samuel/NYU/DBS/proj/lake/cv/dataset/soil/\n",
      "/home/samuel/NYU/DBS/proj/lake/cv/dataset/soybean/\n"
     ]
    },
    {
     "ename": "",
     "evalue": "",
     "output_type": "error",
     "traceback": [
      "\u001b[1;31mThe Kernel crashed while executing code in the the current cell or a previous cell. Please review the code in the cell(s) to identify a possible cause of the failure. Click <a href='https://aka.ms/vscodeJupyterKernelCrash'>here</a> for more info. View Jupyter <a href='command:jupyter.viewOutput'>log</a> for further details."
     ]
    }
   ],
   "source": [
    "# Define the list of labels\n",
    "labels = [\"broadleaf\", \"grass\", \"soil\", \"soybean\"]\n",
    "blob_file_name = \"./blob_final.csv\"\n",
    "\n",
    "# Load the dataset and preprocess the images\n",
    "X = []\n",
    "Y = []\n",
    "image_size = (224, 224)  # Adjust to match VGG16 input size\n",
    "\n",
    "for label in labels:\n",
    "    dataset_path = \"/home/samuel/NYU/DBS/proj/lake/cv/dataset/\" + label + \"/\"\n",
    "    print(dataset_path)\n",
    "    file_paths = glob.glob(dataset_path + \"*\")\n",
    "    counter = 0\n",
    "    for file_path in file_paths:\n",
    "        image = cv2.imread(file_path)\n",
    "        img = cv2.resize(image, image_size)\n",
    "        img_flattened = img.flatten()\n",
    "        counter = counter + 1\n",
    "        if counter%1 == 0:\n",
    "            X.append(img)\n",
    "            Y.append(label)\n",
    "\n",
    "# Convert labels to numerical values\n",
    "label_to_index = {label: index for index, label in enumerate(labels)}\n",
    "Y = [label_to_index[label] for label in Y]\n",
    "\n",
    "X_flattened = []\n",
    "\n",
    "for row in X:\n",
    "    X_flattened.append(row.flatten())\n",
    "\n",
    "# Convert lists to NumPy arrays\n",
    "X_flattened = np.array(X_flattened)\n",
    "Y = np.array(Y)\n",
    "\n",
    "data_to_save = []\n",
    "for (feature, label) in zip(X_flattened, Y):\n",
    "    pair = np.insert(feature, 0, label)\n",
    "    data_to_save.append(pair)\n",
    "\n",
    "data_to_save = np.array(data_to_save)\n",
    "np.savetxt(blob_file_name, data_to_save, fmt= '%d', delimiter=\" \")\n",
    "\n",
    "\n",
    "\n",
    "reloaded_data = np.loadtxt(blob_file_name, delimiter=' ', dtype = \"uint8\")\n",
    "reloaded_X = []\n",
    "reloaded_Y = []\n",
    "\n",
    "for row in reloaded_data:\n",
    "    reloaded_Y.append(row[0])\n",
    "    \n",
    "    reloaded_X.append(row[1::].reshape(img.shape))\n",
    "assert(np.array_equal(np.array(X), reloaded_X))"
   ]
  },
  {
   "cell_type": "code",
   "execution_count": null,
   "metadata": {},
   "outputs": [],
   "source": []
  }
 ],
 "metadata": {
  "kernelspec": {
   "display_name": "Python 3",
   "language": "python",
   "name": "python3"
  },
  "language_info": {
   "codemirror_mode": {
    "name": "ipython",
    "version": 3
   },
   "file_extension": ".py",
   "mimetype": "text/x-python",
   "name": "python",
   "nbconvert_exporter": "python",
   "pygments_lexer": "ipython3",
   "version": "3.10.12"
  }
 },
 "nbformat": 4,
 "nbformat_minor": 2
}
