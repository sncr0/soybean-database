{
 "cells": [
  {
   "cell_type": "code",
   "execution_count": 2,
   "metadata": {},
   "outputs": [
    {
     "name": "stderr",
     "output_type": "stream",
     "text": [
      "2023-12-06 23:50:27.756435: E external/local_xla/xla/stream_executor/cuda/cuda_dnn.cc:9261] Unable to register cuDNN factory: Attempting to register factory for plugin cuDNN when one has already been registered\n",
      "2023-12-06 23:50:27.756491: E external/local_xla/xla/stream_executor/cuda/cuda_fft.cc:607] Unable to register cuFFT factory: Attempting to register factory for plugin cuFFT when one has already been registered\n",
      "2023-12-06 23:50:27.757418: E external/local_xla/xla/stream_executor/cuda/cuda_blas.cc:1515] Unable to register cuBLAS factory: Attempting to register factory for plugin cuBLAS when one has already been registered\n",
      "2023-12-06 23:50:27.763722: I tensorflow/core/platform/cpu_feature_guard.cc:182] This TensorFlow binary is optimized to use available CPU instructions in performance-critical operations.\n",
      "To enable the following instructions: AVX2 FMA, in other operations, rebuild TensorFlow with the appropriate compiler flags.\n",
      "2023-12-06 23:50:28.675420: W tensorflow/compiler/tf2tensorrt/utils/py_utils.cc:38] TF-TRT Warning: Could not find TensorRT\n"
     ]
    },
    {
     "name": "stdout",
     "output_type": "stream",
     "text": [
      "INFO:tensorflow:Using MirroredStrategy with devices ('/job:localhost/replica:0/task:0/device:CPU:0',)\n"
     ]
    }
   ],
   "source": [
    "\n",
    "\n",
    "import tensorflow as tf\n",
    "# Initialize the TPU\n",
    "# resolver = tf.distribute.cluster_resolver.TPUClusterResolver()\n",
    "# tf.config.experimental_connect_to_cluster(resolver)\n",
    "# tf.tpu.experimental.initialize_tpu_system(resolver)\n",
    "\n",
    "# # Create a TPU strategy\n",
    "# tpu_strategy = tf.distribute.experimental.TPUStrategy(resolver)\n",
    "\n",
    "strategy = tf.distribute.MirroredStrategy()\n",
    "\n"
   ]
  },
  {
   "cell_type": "code",
   "execution_count": 3,
   "metadata": {},
   "outputs": [],
   "source": [
    "import numpy as np\n",
    "\n",
    "import os\n",
    "import cv2\n",
    "import glob\n",
    "from tensorflow.keras.applications import VGG16\n",
    "from tensorflow.keras.layers import Dense, GlobalAveragePooling2D  # Import GlobalAveragePooling2D\n",
    "from tensorflow.keras.models import Model\n",
    "from sklearn.model_selection import train_test_split\n",
    "from tensorflow.keras.preprocessing.image import ImageDataGenerator\n",
    "import pandas as pd"
   ]
  },
  {
   "cell_type": "code",
   "execution_count": 35,
   "metadata": {},
   "outputs": [
    {
     "name": "stdout",
     "output_type": "stream",
     "text": [
      "/home/samuel/NYU/DBS/proj/lake/cv/dataset/broadleaf/\n",
      "/home/samuel/NYU/DBS/proj/lake/cv/dataset/grass/\n",
      "/home/samuel/NYU/DBS/proj/lake/cv/dataset/soil/\n",
      "/home/samuel/NYU/DBS/proj/lake/cv/dataset/soybean/\n"
     ]
    }
   ],
   "source": [
    "# Define the list of labels\n",
    "labels = [\"broadleaf\", \"grass\", \"soil\", \"soybean\"]\n",
    "\n",
    "# Load the dataset and preprocess the images\n",
    "X = []\n",
    "Y = []\n",
    "image_size = (224, 224)  # Adjust to match VGG16 input size\n",
    "\n",
    "for label in labels:\n",
    "    dataset_path = \"/home/samuel/NYU/DBS/proj/lake/cv/dataset/\" + label + \"/\"\n",
    "    print(dataset_path)\n",
    "    file_paths = glob.glob(dataset_path + \"*\")\n",
    "    counter = 0\n",
    "    for file_path in file_paths:\n",
    "        image = cv2.imread(file_path)\n",
    "        img = cv2.resize(image, image_size)\n",
    "        img_flattened = img.flatten()\n",
    "        counter = counter + 1\n",
    "        if counter%50 == 0:\n",
    "            X.append(img_flattened)\n",
    "            Y.append(label)\n",
    "\n",
    "# Convert labels to numerical values\n",
    "label_to_index = {label: index for index, label in enumerate(labels)}\n",
    "Y = [label_to_index[label] for label in Y]\n",
    "\n",
    "# Convert lists to NumPy arrays\n",
    "X = np.array(X)\n",
    "Y = np.array(Y)"
   ]
  },
  {
   "cell_type": "code",
   "execution_count": 4,
   "metadata": {},
   "outputs": [],
   "source": [
    "# Split the dataset into training and testing sets\n",
    "X_train, X_test, Y_train, Y_test = train_test_split(X, Y, test_size=0.3, random_state=101)\n",
    "\n",
    "# Preprocess the images for VGG16\n",
    "X_train = tf.keras.applications.vgg16.preprocess_input(X_train)\n",
    "X_test = tf.keras.applications.vgg16.preprocess_input(X_test)"
   ]
  },
  {
   "cell_type": "code",
   "execution_count": 5,
   "metadata": {},
   "outputs": [
    {
     "name": "stdout",
     "output_type": "stream",
     "text": [
      "Epoch 1/10\n",
      "7/7 [==============================] - 297s 43s/step - loss: 63.3998 - accuracy: 0.3396 - val_loss: 3.2452 - val_accuracy: 0.2174\n",
      "Epoch 2/10\n",
      "7/7 [==============================] - 320s 47s/step - loss: 1.7417 - accuracy: 0.4057 - val_loss: 1.3380 - val_accuracy: 0.5109\n",
      "Epoch 3/10\n",
      "7/7 [==============================] - 343s 47s/step - loss: 1.3595 - accuracy: 0.4009 - val_loss: 1.3297 - val_accuracy: 0.1522\n",
      "Epoch 4/10\n",
      "7/7 [==============================] - 323s 48s/step - loss: 1.2546 - accuracy: 0.4481 - val_loss: 1.2902 - val_accuracy: 0.5326\n",
      "Epoch 5/10\n",
      "7/7 [==============================] - 279s 40s/step - loss: 1.2577 - accuracy: 0.4623 - val_loss: 1.2685 - val_accuracy: 0.5326\n",
      "Epoch 6/10\n",
      "7/7 [==============================] - 328s 48s/step - loss: 1.2523 - accuracy: 0.4623 - val_loss: 1.2805 - val_accuracy: 0.5326\n",
      "Epoch 7/10\n",
      "7/7 [==============================] - 343s 48s/step - loss: 1.2592 - accuracy: 0.4623 - val_loss: 1.2868 - val_accuracy: 0.5326\n",
      "Epoch 8/10\n",
      "7/7 [==============================] - 292s 43s/step - loss: 1.2433 - accuracy: 0.4623 - val_loss: 1.2750 - val_accuracy: 0.5326\n",
      "Epoch 9/10\n",
      "7/7 [==============================] - 311s 45s/step - loss: 1.2379 - accuracy: 0.4623 - val_loss: 1.2412 - val_accuracy: 0.5326\n",
      "Epoch 10/10\n",
      "7/7 [==============================] - 295s 43s/step - loss: 1.2302 - accuracy: 0.4623 - val_loss: 1.2594 - val_accuracy: 0.5326\n",
      "3/3 [==============================] - 27s 9s/step - loss: 1.2594 - accuracy: 0.5326\n",
      "Test Accuracy: 0.532608687877655\n"
     ]
    }
   ],
   "source": [
    "\n",
    "# Load the pre-trained VGG16 model\n",
    "base_model = VGG16(weights='imagenet', include_top=False)\n",
    "\n",
    "# Add custom layers for classification\n",
    "x = base_model.output\n",
    "x = GlobalAveragePooling2D()(x)\n",
    "x = Dense(1024, activation='relu')(x)\n",
    "predictions = Dense(len(labels), activation='softmax')(x)\n",
    "\n",
    "model = Model(inputs=base_model.input, outputs=predictions)\n",
    "\n",
    "# Compile the model\n",
    "model.compile(optimizer='adam', loss='sparse_categorical_crossentropy', metrics=['accuracy'])\n",
    "\n",
    "# Train the model\n",
    "history =model.fit(X_train, Y_train, validation_data=(X_test, Y_test), epochs=10, batch_size=32)\n",
    "\n",
    "# Evaluate the model\n",
    "test_loss, test_accuracy = model.evaluate(X_test, Y_test)\n",
    "print(\"Test Accuracy:\", test_accuracy)"
   ]
  },
  {
   "cell_type": "code",
   "execution_count": 9,
   "metadata": {},
   "outputs": [],
   "source": [
    "# Save the model architecture as JSON\n",
    "model_json = model.to_json()\n",
    "\n",
    "# Specify the file path where you want to save the JSON file\n",
    "json_file_path = './model.json'\n",
    "with open(\"model.json\", \"w\") as json_file:\n",
    "    json_file.write(model_json)\n",
    "model.save_weights(\"model_weights.h5\")"
   ]
  },
  {
   "cell_type": "code",
   "execution_count": null,
   "metadata": {},
   "outputs": [],
   "source": [
    "model.to_json()"
   ]
  }
 ],
 "metadata": {
  "kernelspec": {
   "display_name": "Python 3",
   "language": "python",
   "name": "python3"
  },
  "language_info": {
   "codemirror_mode": {
    "name": "ipython",
    "version": 3
   },
   "file_extension": ".py",
   "mimetype": "text/x-python",
   "name": "python",
   "nbconvert_exporter": "python",
   "pygments_lexer": "ipython3",
   "version": "3.10.12"
  }
 },
 "nbformat": 4,
 "nbformat_minor": 2
}
